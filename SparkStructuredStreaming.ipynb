{
  "nbformat": 4,
  "nbformat_minor": 0,
  "metadata": {
    "colab": {
      "name": "SparkStructuredStreaming.ipynb",
      "provenance": [],
      "toc_visible": true,
      "include_colab_link": true
    },
    "kernelspec": {
      "display_name": "Python 3",
      "language": "python",
      "name": "python3"
    },
    "language_info": {
      "codemirror_mode": {
        "name": "ipython",
        "version": 3
      },
      "file_extension": ".py",
      "mimetype": "text/x-python",
      "name": "python",
      "nbconvert_exporter": "python",
      "pygments_lexer": "ipython3",
      "version": "3.7.9"
    }
  },
  "cells": [
    {
      "cell_type": "markdown",
      "metadata": {
        "id": "view-in-github",
        "colab_type": "text"
      },
      "source": [
        "<a href=\"https://colab.research.google.com/github/MarwaAli312/StructuredStreaming_Spark/blob/main/SparkStructuredStreaming.ipynb\" target=\"_parent\"><img src=\"https://colab.research.google.com/assets/colab-badge.svg\" alt=\"Open In Colab\"/></a>"
      ]
    },
    {
      "cell_type": "markdown",
      "metadata": {
        "id": "ef-hg6W2Nye0"
      },
      "source": [
        "# Spark Structured Streaming  use case:\r\n",
        "A bank that wants to automatically verify whether a new transaction may be fraudulent.\r\n",
        "\r\n",
        "* This is a demenstration on how streaming works, and how the pipeline \r\n",
        "analyses each batch of data."
      ]
    },
    {
      "cell_type": "markdown",
      "metadata": {
        "id": "vfHI0PYzQeHl"
      },
      "source": [
        "### Configuring Kaggle on Colab\n",
        "\n",
        "https://www.kaggle.com/docs/api\n"
      ]
    },
    {
      "cell_type": "code",
      "metadata": {
        "colab": {
          "base_uri": "https://localhost:8080/"
        },
        "id": "ieIfhce8RtwY",
        "outputId": "b08f186a-49ae-4910-a1ad-3d6efef92429"
      },
      "source": [
        "from google.colab import drive\n",
        "drive.mount('/content/drive')"
      ],
      "execution_count": null,
      "outputs": [
        {
          "output_type": "stream",
          "text": [
            "Mounted at /content/drive\n"
          ],
          "name": "stdout"
        }
      ]
    },
    {
      "cell_type": "code",
      "metadata": {
        "id": "ylRF7q5nQeHq"
      },
      "source": [
        "! pip install -q kaggle"
      ],
      "execution_count": null,
      "outputs": []
    },
    {
      "cell_type": "code",
      "metadata": {
        "id": "o7KLYNHPcUDD"
      },
      "source": [
        "from google.colab import files"
      ],
      "execution_count": null,
      "outputs": []
    },
    {
      "cell_type": "code",
      "metadata": {
        "colab": {
          "resources": {
            "http://localhost:8080/nbextensions/google.colab/files.js": {
              "data": "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",
              "ok": true,
              "headers": [
                [
                  "content-type",
                  "application/javascript"
                ]
              ],
              "status": 200,
              "status_text": ""
            }
          },
          "base_uri": "https://localhost:8080/",
          "height": 91
        },
        "id": "mbTyRbQwcY76",
        "outputId": "6386f7c1-33f0-4308-f185-245e61bba47c"
      },
      "source": [
        "files.upload()"
      ],
      "execution_count": null,
      "outputs": [
        {
          "output_type": "display_data",
          "data": {
            "text/html": [
              "\n",
              "     <input type=\"file\" id=\"files-d31e4f53-a966-40df-9abb-74cfda8ce592\" name=\"files[]\" multiple disabled\n",
              "        style=\"border:none\" />\n",
              "     <output id=\"result-d31e4f53-a966-40df-9abb-74cfda8ce592\">\n",
              "      Upload widget is only available when the cell has been executed in the\n",
              "      current browser session. Please rerun this cell to enable.\n",
              "      </output>\n",
              "      <script src=\"/nbextensions/google.colab/files.js\"></script> "
            ],
            "text/plain": [
              "<IPython.core.display.HTML object>"
            ]
          },
          "metadata": {
            "tags": []
          }
        },
        {
          "output_type": "stream",
          "text": [
            "Saving kaggle.json to kaggle.json\n"
          ],
          "name": "stdout"
        },
        {
          "output_type": "execute_result",
          "data": {
            "text/plain": [
              "{'kaggle.json': b'{\"username\":\"marwaali\",\"key\":\"630a9ad0d2eeb4f710cc57d2049c3bcf\"}'}"
            ]
          },
          "metadata": {
            "tags": []
          },
          "execution_count": 7
        }
      ]
    },
    {
      "cell_type": "code",
      "metadata": {
        "id": "RXSCVDY2VjxT",
        "colab": {
          "base_uri": "https://localhost:8080/"
        },
        "outputId": "91fe32b4-e855-4ade-831c-d08faf43212a"
      },
      "source": [
        "cd /content/drive/MyDrive/Colab Notebooks/kaggle/"
      ],
      "execution_count": null,
      "outputs": [
        {
          "output_type": "stream",
          "text": [
            "/content/drive/MyDrive/Colab Notebooks/kaggle\n"
          ],
          "name": "stdout"
        }
      ]
    },
    {
      "cell_type": "code",
      "metadata": {
        "colab": {
          "base_uri": "https://localhost:8080/"
        },
        "id": "CMxgj0fUJ07v",
        "outputId": "1035e4c9-4c64-414a-a14c-22ab8b1a4fbc"
      },
      "source": [
        "!pip install -q kaggle\r\n",
        "!mkdir -p ~/.kaggle\r\n",
        "!cp kaggle.json ~/.kaggle/\r\n",
        "!ls ~/.kaggle\r\n",
        "!chmod 600 /root/.kaggle/kaggle.json"
      ],
      "execution_count": null,
      "outputs": [
        {
          "output_type": "stream",
          "text": [
            "kaggle.json\n"
          ],
          "name": "stdout"
        }
      ]
    },
    {
      "cell_type": "markdown",
      "metadata": {
        "id": "twgHHHHLXOeJ"
      },
      "source": [
        "### Setting up the dataset"
      ]
    },
    {
      "cell_type": "markdown",
      "metadata": {
        "id": "mZEoofwqQeHr"
      },
      "source": [
        "https://www.kaggle.com/ntnu-testimon/paysim1"
      ]
    },
    {
      "cell_type": "markdown",
      "metadata": {
        "id": "5Y_IuoQHcoSV"
      },
      "source": [
        "This dataset is interesting because it has a column names step, each unit represents an hour (1 step = 1h )\r\n",
        " - This made it easy to split the dataset into small batches of one unit of time\r\n"
      ]
    },
    {
      "cell_type": "code",
      "metadata": {
        "colab": {
          "base_uri": "https://localhost:8080/"
        },
        "id": "-8mY0acFQeHr",
        "outputId": "7272ee3b-69d2-40b0-f055-c46f212d1ead"
      },
      "source": [
        "!kaggle datasets download -d 'ntnu-testimon/paysim1'"
      ],
      "execution_count": null,
      "outputs": [
        {
          "output_type": "stream",
          "text": [
            "Downloading paysim1.zip to /content/drive/My Drive/Colab Notebooks/kaggle\n",
            " 96% 170M/178M [00:01<00:00, 107MB/s]\n",
            "100% 178M/178M [00:02<00:00, 89.8MB/s]\n"
          ],
          "name": "stdout"
        }
      ]
    },
    {
      "cell_type": "code",
      "metadata": {
        "colab": {
          "base_uri": "https://localhost:8080/"
        },
        "id": "BY6QpMxHQeHr",
        "outputId": "c0da4e0f-485a-415a-cf1d-d885f0303423"
      },
      "source": [
        "#!sudo apt-get install unzip\n",
        "!unzip paysim1.zip -d data/"
      ],
      "execution_count": null,
      "outputs": [
        {
          "output_type": "stream",
          "text": [
            "Archive:  paysim1.zip\n",
            "  inflating: data/PS_20174392719_1491204439457_log.csv  \n"
          ],
          "name": "stdout"
        }
      ]
    },
    {
      "cell_type": "code",
      "metadata": {
        "id": "eZ8SUvKmQeHs"
      },
      "source": [
        "!rm -rf paysim1.zip"
      ],
      "execution_count": null,
      "outputs": []
    },
    {
      "cell_type": "markdown",
      "metadata": {
        "id": "T8INRLPT4jKc"
      },
      "source": [
        "Saving the dataset under kaggle/data folder, with the name pysim.csv"
      ]
    },
    {
      "cell_type": "code",
      "metadata": {
        "id": "hA2XYmHFQeHs"
      },
      "source": [
        "!mv data/PS_20174392719_1491204439457_log.csv data/paysim.csv"
      ],
      "execution_count": null,
      "outputs": []
    },
    {
      "cell_type": "markdown",
      "metadata": {
        "id": "zQPtFbxg3pXV"
      },
      "source": [
        "### Installing PySpark"
      ]
    },
    {
      "cell_type": "code",
      "metadata": {
        "colab": {
          "base_uri": "https://localhost:8080/"
        },
        "id": "RDz7lDEAQeHs",
        "outputId": "3b3a03f1-6874-433e-ef46-6d778ac52657"
      },
      "source": [
        "!pip install pyspark"
      ],
      "execution_count": null,
      "outputs": [
        {
          "output_type": "stream",
          "text": [
            "Collecting pyspark\n",
            "\u001b[?25l  Downloading https://files.pythonhosted.org/packages/f0/26/198fc8c0b98580f617cb03cb298c6056587b8f0447e20fa40c5b634ced77/pyspark-3.0.1.tar.gz (204.2MB)\n",
            "\u001b[K     |████████████████████████████████| 204.2MB 72kB/s \n",
            "\u001b[?25hCollecting py4j==0.10.9\n",
            "\u001b[?25l  Downloading https://files.pythonhosted.org/packages/9e/b6/6a4fb90cd235dc8e265a6a2067f2a2c99f0d91787f06aca4bcf7c23f3f80/py4j-0.10.9-py2.py3-none-any.whl (198kB)\n",
            "\u001b[K     |████████████████████████████████| 204kB 52.6MB/s \n",
            "\u001b[?25hBuilding wheels for collected packages: pyspark\n",
            "  Building wheel for pyspark (setup.py) ... \u001b[?25l\u001b[?25hdone\n",
            "  Created wheel for pyspark: filename=pyspark-3.0.1-py2.py3-none-any.whl size=204612242 sha256=a43c68993747ea86835119d414665fae8b5b1378ada8bebdeffaa43613d06398\n",
            "  Stored in directory: /root/.cache/pip/wheels/5e/bd/07/031766ca628adec8435bb40f0bd83bb676ce65ff4007f8e73f\n",
            "Successfully built pyspark\n",
            "Installing collected packages: py4j, pyspark\n",
            "Successfully installed py4j-0.10.9 pyspark-3.0.1\n"
          ],
          "name": "stdout"
        }
      ]
    },
    {
      "cell_type": "markdown",
      "metadata": {
        "id": "jAUqj9B0QeHs"
      },
      "source": [
        "https://www.kaggle.com/ntnu-testimon/paysim1"
      ]
    },
    {
      "cell_type": "markdown",
      "metadata": {
        "id": "6y0SAUFk4Org"
      },
      "source": [
        "### Preparing the data"
      ]
    },
    {
      "cell_type": "code",
      "metadata": {
        "id": "YIj_L20jQeHt"
      },
      "source": [
        "from pyspark.sql import SparkSession\n",
        "import pyspark.sql.functions as F\n",
        "import pyspark.sql.types as T\n",
        "\n",
        "#creating a spark session\n",
        "spark = SparkSession.builder.getOrCreate()"
      ],
      "execution_count": null,
      "outputs": []
    },
    {
      "cell_type": "code",
      "metadata": {
        "id": "gFyrQul7QeHt"
      },
      "source": [
        "df = spark.read.csv(\"data/paysim.csv\", header=True, inferSchema=True)"
      ],
      "execution_count": null,
      "outputs": []
    },
    {
      "cell_type": "code",
      "metadata": {
        "colab": {
          "base_uri": "https://localhost:8080/"
        },
        "id": "tc9dOkQEQeHu",
        "outputId": "63f7db04-7f76-4abe-fabb-946b241da2dd"
      },
      "source": [
        "df.columns"
      ],
      "execution_count": null,
      "outputs": [
        {
          "output_type": "execute_result",
          "data": {
            "text/plain": [
              "['step',\n",
              " 'type',\n",
              " 'amount',\n",
              " 'nameOrig',\n",
              " 'oldbalanceOrg',\n",
              " 'newbalanceOrig',\n",
              " 'nameDest',\n",
              " 'oldbalanceDest',\n",
              " 'newbalanceDest',\n",
              " 'isFraud',\n",
              " 'isFlaggedFraud']"
            ]
          },
          "metadata": {
            "tags": []
          },
          "execution_count": 16
        }
      ]
    },
    {
      "cell_type": "markdown",
      "metadata": {
        "id": "e4XrJ4lk4y1n"
      },
      "source": [
        "For our streaming system, we don't know whether the transaction is fraudulent or not\r\n",
        "* We just get the data and process it, then thanks to ML algorithms for \r\n",
        "example we can work on classification"
      ]
    },
    {
      "cell_type": "code",
      "metadata": {
        "id": "UrQUkv5jQeHu"
      },
      "source": [
        "df = df.drop(\"isFraud\", \"isFlaggedFraud\")"
      ],
      "execution_count": null,
      "outputs": []
    },
    {
      "cell_type": "code",
      "metadata": {
        "colab": {
          "base_uri": "https://localhost:8080/"
        },
        "id": "vu1yeDfXQeHu",
        "outputId": "db56ad99-989d-4378-f9f1-26708b0a9b6a"
      },
      "source": [
        "df.show(2)"
      ],
      "execution_count": null,
      "outputs": [
        {
          "output_type": "stream",
          "text": [
            "+----+-------+-------+-----------+-------------+--------------+-----------+--------------+--------------+\n",
            "|step|   type| amount|   nameOrig|oldbalanceOrg|newbalanceOrig|   nameDest|oldbalanceDest|newbalanceDest|\n",
            "+----+-------+-------+-----------+-------------+--------------+-----------+--------------+--------------+\n",
            "|   1|PAYMENT|9839.64|C1231006815|     170136.0|     160296.36|M1979787155|           0.0|           0.0|\n",
            "|   1|PAYMENT|1864.28|C1666544295|      21249.0|      19384.72|M2044282225|           0.0|           0.0|\n",
            "+----+-------+-------+-----------+-------------+--------------+-----------+--------------+--------------+\n",
            "only showing top 2 rows\n",
            "\n"
          ],
          "name": "stdout"
        }
      ]
    },
    {
      "cell_type": "markdown",
      "metadata": {
        "id": "ef3oLYfTQeHv"
      },
      "source": [
        "Step maps a unit of time in the real world. In this case 1 step is 1 hour of time. \r\n",
        "* So we can assume for this example that we have another job that runs every hour and gets all the transactions in that time frame.\r\n",
        "\r\n",
        "To get this task done, we will group the transactions by their timeframe ( step ) "
      ]
    },
    {
      "cell_type": "code",
      "metadata": {
        "colab": {
          "base_uri": "https://localhost:8080/"
        },
        "id": "MqrQ4P5nQeHv",
        "outputId": "0761f2d9-cc53-4245-82dc-1fa29aa96d6c"
      },
      "source": [
        "df.groupBy(\"step\").count().show(3)"
      ],
      "execution_count": null,
      "outputs": [
        {
          "output_type": "stream",
          "text": [
            "+----+-----+\n",
            "|step|count|\n",
            "+----+-----+\n",
            "| 148|   12|\n",
            "| 463|   10|\n",
            "| 471| 2620|\n",
            "+----+-----+\n",
            "only showing top 3 rows\n",
            "\n"
          ],
          "name": "stdout"
        }
      ]
    },
    {
      "cell_type": "markdown",
      "metadata": {
        "id": "6e7398eLQeHv"
      },
      "source": [
        "We can therefore save the output of that job by filtering on each step and saving it to a separate file:\r\n",
        "\r\n",
        "* We get seperate batches of data, each corresponds to a different  timeframe"
      ]
    },
    {
      "cell_type": "markdown",
      "metadata": {
        "id": "8YExAMTGgiAx"
      },
      "source": [
        "![Capture.PNG](data:image/png;base64,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)"
      ]
    },
    {
      "cell_type": "code",
      "metadata": {
        "id": "c4gflW2kQeHv"
      },
      "source": [
        "#%%time\n",
        "steps = df.select(\"step\").distinct().collect() #collecting the different timeframes or steps\n",
        "for step in steps[:]:\n",
        "  _df = df.where(f\"step = {step[0]}\") #filtering enteries having step=our timeframe\n",
        "  #by adding coalesce(1) we save the dataframe to one file\n",
        "  _df.coalesce(1).write.mode(\"append\").option(\"header\", \"true\").csv(\"data/paysim\") #save it in a folder names paysim under the data folder"
      ],
      "execution_count": null,
      "outputs": []
    },
    {
      "cell_type": "markdown",
      "metadata": {
        "id": "rGvz5MUu-kM8"
      },
      "source": [
        "The process takes much time so I interrupted it.\r\n",
        "\r\n",
        "We can see the created batches so far:"
      ]
    },
    {
      "cell_type": "code",
      "metadata": {
        "colab": {
          "base_uri": "https://localhost:8080/"
        },
        "id": "auRSbG0lQeHv",
        "outputId": "be8d7290-c591-47a8-ca65-929fbd2f25de"
      },
      "source": [
        "!cd data/paysim/ && ls"
      ],
      "execution_count": null,
      "outputs": [
        {
          "output_type": "stream",
          "text": [
            "part-00000-05032df4-6621-4309-a7ff-70cb8bf7c560-c000.csv\n",
            "part-00000-113abbff-2185-44dc-9b93-b23ed894aa49-c000.csv\n",
            "part-00000-18358e1f-d4fe-4472-9552-a0f2194a1d92-c000.csv\n",
            "part-00000-1b5963e5-e748-4d2f-ac19-892c084be061-c000.csv\n",
            "part-00000-24ac482e-3064-4a2b-bb3c-e3a9269f2b3e-c000.csv\n",
            "part-00000-30950184-7fbc-42d6-a038-c3ec49ab6faa-c000.csv\n",
            "part-00000-36b7434a-49e0-40df-aefe-5c1d5e78424e-c000.csv\n",
            "part-00000-3feb0924-65fb-47a0-8143-54ba3648fcf4-c000.csv\n",
            "part-00000-40a02697-3461-4845-a8b8-641fe2ec6a30-c000.csv\n",
            "part-00000-41495f70-16e1-4fda-b0a2-3c7146f032ad-c000.csv\n",
            "part-00000-444bba9e-4ca2-4793-aeba-05d41b74eed3-c000.csv\n",
            "part-00000-45d72050-f53e-4871-8f90-258514c384cc-c000.csv\n",
            "part-00000-56287dca-b501-43dc-9f0f-2ead3c033ef9-c000.csv\n",
            "part-00000-5c429ce0-0b7e-4165-907a-9f253b3c7da6-c000.csv\n",
            "part-00000-612d04a3-94a9-4e09-96ad-cbf5af821f9f-c000.csv\n",
            "part-00000-705a1799-5aef-4946-92f7-e60d318b5f58-c000.csv\n",
            "part-00000-7165dc02-2708-4def-bb10-8350a8236e24-c000.csv\n",
            "part-00000-719cf59b-6ba7-4151-8824-2caac510233c-c000.csv\n",
            "part-00000-7be9ee8b-a7f9-4a9b-a13a-098eb2d8be27-c000.csv\n",
            "part-00000-86623dc6-ea4d-4082-803a-4c7548655bdd-c000.csv\n",
            "part-00000-88319e6b-7cb4-4949-b95a-f9f8f1886c2d-c000.csv\n",
            "part-00000-a3865829-dc76-46ca-9350-31f908b02ace-c000.csv\n",
            "part-00000-b49e4626-9051-4f62-98f0-9d332966ac63-c000.csv\n",
            "part-00000-b5224a35-fbaa-43d6-92af-0f6e754656a7-c000.csv\n",
            "part-00000-b5400a09-2055-427a-bdb3-dea724d73474-c000.csv\n",
            "part-00000-b7dfe8f6-bf1a-493b-88dc-a78c123422e8-c000.csv\n",
            "part-00000-bced87c8-4021-4c05-bcf0-44ffff3c6694-c000.csv\n",
            "part-00000-beaad0ba-891c-44f4-b0d2-db1b7ddfdba2-c000.csv\n",
            "part-00000-c20c2104-fb7a-48f4-89a3-5d8f0271b04e-c000.csv\n",
            "part-00000-c720624f-2a73-4790-bb5a-f81a8ef99e4d-c000.csv\n",
            "part-00000-d399ac30-bb8b-4690-ba9a-decf44787217-c000.csv\n",
            "part-00000-ea54b572-e78e-4546-972b-e0f211933a57-c000.csv\n",
            "part-00000-f5167e35-c8b3-4bee-8f13-857a7e316415-c000.csv\n",
            "part-00000-fade77dc-873d-4d98-b4b0-c6ccc6ff397a-c000.csv\n",
            "part-00000-fcae3b9d-6763-4da4-b011-e326cef7e88d-c000.csv\n",
            "part-00000-fec8855a-de29-4282-9fcf-159236776ffe-c000.csv\n",
            "part-00000-fee45ad1-02d8-4ffb-a09d-ce4d0c9acbef-c000.csv\n",
            "_SUCCESS\n"
          ],
          "name": "stdout"
        }
      ]
    },
    {
      "cell_type": "code",
      "metadata": {
        "id": "B2ROP3q1QeHw"
      },
      "source": [
        "part = spark.read.csv(\n",
        "    \"/content/drive/MyDrive/Colab Notebooks/kaggle/data/paysim/part-00000-d399ac30-bb8b-4690-ba9a-decf44787217-c000.csv\",\n",
        "    header=True,\n",
        "    inferSchema=True,\n",
        ")"
      ],
      "execution_count": null,
      "outputs": []
    },
    {
      "cell_type": "code",
      "metadata": {
        "id": "hafxRJfAQeHw",
        "colab": {
          "base_uri": "https://localhost:8080/"
        },
        "outputId": "24d00c9c-3004-4331-a208-d3a6aea41904"
      },
      "source": [
        "part.groupBy(\"step\").count().show() \r\n",
        "#one step since we made a seperate file for each step"
      ],
      "execution_count": null,
      "outputs": [
        {
          "output_type": "stream",
          "text": [
            "+----+-----+\n",
            "|step|count|\n",
            "+----+-----+\n",
            "| 137|32559|\n",
            "+----+-----+\n",
            "\n"
          ],
          "name": "stdout"
        }
      ]
    },
    {
      "cell_type": "markdown",
      "metadata": {
        "id": "DRr_G5ypg0Gf"
      },
      "source": [
        "### Structured Streaming"
      ]
    },
    {
      "cell_type": "markdown",
      "metadata": {
        "id": "ZrvCUXxFQeHw"
      },
      "source": [
        "Structured Streaming; Is simply your dataframe, but streaming.\r\n",
        "\r\n",
        "- You treat the stream of data as a table to which data is continiously appended.\r\n",
        "\r\n",
        "- The job itself then checks for new input data, processes it, updates the internal state then updates the result.\r\n",
        "\r\n",
        "\r\n",
        "---\r\n",
        "\r\n",
        "\r\n",
        "\r\n",
        "\r\n",
        "\r\n"
      ]
    },
    {
      "cell_type": "markdown",
      "metadata": {
        "id": "fjaXFHhpifft"
      },
      "source": [
        "Let’s create a streaming version of this input, we'll read each file one by one as if it was a stream."
      ]
    },
    {
      "cell_type": "code",
      "metadata": {
        "id": "5AuPvryOQeHw"
      },
      "source": [
        "#get the schema of the stream ( dataframe )\r\n",
        "dataSchema = part.schema"
      ],
      "execution_count": null,
      "outputs": []
    },
    {
      "cell_type": "code",
      "metadata": {
        "id": "iL_BmmnWQeHx",
        "colab": {
          "base_uri": "https://localhost:8080/"
        },
        "outputId": "3b7b54e3-67ed-4e78-86b6-1f7b121c4eb6"
      },
      "source": [
        "dataSchema"
      ],
      "execution_count": null,
      "outputs": [
        {
          "output_type": "execute_result",
          "data": {
            "text/plain": [
              "StructType(List(StructField(step,IntegerType,true),StructField(type,StringType,true),StructField(amount,DoubleType,true),StructField(nameOrig,StringType,true),StructField(oldbalanceOrg,DoubleType,true),StructField(newbalanceOrig,DoubleType,true),StructField(nameDest,StringType,true),StructField(oldbalanceDest,DoubleType,true),StructField(newbalanceDest,DoubleType,true)))"
            ]
          },
          "metadata": {
            "tags": []
          },
          "execution_count": 25
        }
      ]
    },
    {
      "cell_type": "markdown",
      "metadata": {
        "id": "D0GIpeYGQeHx"
      },
      "source": [
        "*maxFilesPerTrigger* allows you to control how quickly Spark will read all of the files in the folder. \n",
        "In this example we're limiting the flow of the stream to one file per trigger.\n",
        "\n",
        "Simply we will go through all the files one by one\n"
      ]
    },
    {
      "cell_type": "code",
      "metadata": {
        "id": "qe3KBGfTQeHx"
      },
      "source": [
        "streaming = (\n",
        "    spark.readStream.schema(dataSchema)\n",
        "    .option(\"maxFilesPerTrigger\", 1) #going through the files one by one\n",
        "    .csv(\"data/paysim/\") #files that exist in data/paysim/\n",
        ")"
      ],
      "execution_count": null,
      "outputs": []
    },
    {
      "cell_type": "markdown",
      "metadata": {
        "id": "aSsgKmeIQeHx"
      },
      "source": [
        "Let's set up a transformation on the streamed data.\n",
        "* In this example we assume that maybe if many transcations are going to the same account, it can be a potential fraud.\n",
        "\n",
        "\n",
        "The nameDest column is the recipient ID of the transaction."
      ]
    },
    {
      "cell_type": "code",
      "metadata": {
        "id": "RCXcBTPuQeHx"
      },
      "source": [
        "dest_count = streaming.groupBy(\"nameDest\").count().orderBy(F.desc(\"count\"))"
      ],
      "execution_count": null,
      "outputs": []
    },
    {
      "cell_type": "markdown",
      "metadata": {
        "id": "gTAdWMzLQeHy"
      },
      "source": [
        "Now that we have our transformation, we need to specify an output sink for the results. For this example, we're going to write to a memory sink which keeps the results in memory.\n",
        "\n",
        "We also need to define how Spark will output that data. In this example, we'll use the complete output mode (rewriting all of the keys along with their counts after every trigger).\n",
        "\n",
        "Here our key is the nameDest"
      ]
    },
    {
      "cell_type": "code",
      "metadata": {
        "id": "YB8qplG2DS23"
      },
      "source": [
        "activityQuery = (\r\n",
        "    dest_count.writeStream.queryName(\"dest_counts\")  #write the results from previous cell\r\n",
        "    .format(\"memory\") #set the sink to memory\r\n",
        "    .outputMode(\"complete\")\r\n",
        "    .start()\r\n",
        ")"
      ],
      "execution_count": null,
      "outputs": []
    },
    {
      "cell_type": "markdown",
      "metadata": {
        "id": "ysjr2CR4DUB8"
      },
      "source": [
        "Spark Streaming jobs are continuous applications and in production activityQuery.awaitTermination() is required because it prevents the driver process from terminating when the stream is active (in the background).\r\n",
        "\r\n",
        "If the driver is killed then the application is too therefore killed hence activityQuery.awaitTermination() is sort of like a fail-safe. If you want to turn off the stream in Jupyter you can run activityQuery.stop() to reset a query for testing purposes"
      ]
    },
    {
      "cell_type": "code",
      "metadata": {
        "id": "rc8NsM0bDYkZ"
      },
      "source": [
        "# activityQuery.awaitTermination()"
      ],
      "execution_count": null,
      "outputs": []
    },
    {
      "cell_type": "code",
      "metadata": {
        "id": "d8bqX8ePQeHy",
        "scrolled": true,
        "colab": {
          "base_uri": "https://localhost:8080/"
        },
        "outputId": "aa32d77c-75a1-4c96-b953-7511038b6690"
      },
      "source": [
        "import time\n",
        "\n",
        "for x in range(50):\n",
        "  #search for the destinations having more than two transactions\n",
        "    _df = spark.sql(\n",
        "        \"SELECT * FROM dest_counts WHERE nameDest != 'nameDest' AND count >= 2\"\n",
        "    )\n",
        "    #show maximum 10 rows ( just for demonstration purposes )\n",
        "    if _df.count() > 0:\n",
        "        _df.show(10)\n",
        "    time.sleep(0.5)"
      ],
      "execution_count": null,
      "outputs": [
        {
          "output_type": "stream",
          "text": [
            "+-----------+-----+\n",
            "|   nameDest|count|\n",
            "+-----------+-----+\n",
            "| C319921943|    2|\n",
            "| C803352127|    2|\n",
            "|C1887077333|    2|\n",
            "+-----------+-----+\n",
            "\n",
            "+-----------+-----+\n",
            "|   nameDest|count|\n",
            "+-----------+-----+\n",
            "| C319921943|    2|\n",
            "| C803352127|    2|\n",
            "|C1887077333|    2|\n",
            "+-----------+-----+\n",
            "\n",
            "+-----------+-----+\n",
            "|   nameDest|count|\n",
            "+-----------+-----+\n",
            "| C319921943|    2|\n",
            "| C803352127|    2|\n",
            "|C1887077333|    2|\n",
            "+-----------+-----+\n",
            "\n",
            "+-----------+-----+\n",
            "|   nameDest|count|\n",
            "+-----------+-----+\n",
            "| C319921943|    2|\n",
            "| C803352127|    2|\n",
            "|C1887077333|    2|\n",
            "| C763794011|    2|\n",
            "| C488343370|    2|\n",
            "+-----------+-----+\n",
            "\n",
            "+-----------+-----+\n",
            "|   nameDest|count|\n",
            "+-----------+-----+\n",
            "| C319921943|    2|\n",
            "| C803352127|    2|\n",
            "|C1887077333|    2|\n",
            "| C763794011|    2|\n",
            "| C488343370|    2|\n",
            "+-----------+-----+\n",
            "\n",
            "+-----------+-----+\n",
            "|   nameDest|count|\n",
            "+-----------+-----+\n",
            "| C319921943|    2|\n",
            "| C803352127|    2|\n",
            "|C1887077333|    2|\n",
            "| C763794011|    2|\n",
            "| C488343370|    2|\n",
            "+-----------+-----+\n",
            "\n",
            "+-----------+-----+\n",
            "|   nameDest|count|\n",
            "+-----------+-----+\n",
            "| C319921943|    2|\n",
            "| C803352127|    2|\n",
            "|C1887077333|    2|\n",
            "| C763794011|    2|\n",
            "| C488343370|    2|\n",
            "+-----------+-----+\n",
            "\n",
            "+-----------+-----+\n",
            "|   nameDest|count|\n",
            "+-----------+-----+\n",
            "| C319921943|    2|\n",
            "| C803352127|    2|\n",
            "|C1887077333|    2|\n",
            "| C763794011|    2|\n",
            "| C488343370|    2|\n",
            "+-----------+-----+\n",
            "\n",
            "+-----------+-----+\n",
            "|   nameDest|count|\n",
            "+-----------+-----+\n",
            "| C319921943|    2|\n",
            "| C803352127|    2|\n",
            "|C1887077333|    2|\n",
            "| C763794011|    2|\n",
            "| C488343370|    2|\n",
            "+-----------+-----+\n",
            "\n",
            "+-----------+-----+\n",
            "|   nameDest|count|\n",
            "+-----------+-----+\n",
            "| C319921943|    2|\n",
            "| C803352127|    2|\n",
            "|C1887077333|    2|\n",
            "| C763794011|    2|\n",
            "| C488343370|    2|\n",
            "+-----------+-----+\n",
            "\n",
            "+-----------+-----+\n",
            "|   nameDest|count|\n",
            "+-----------+-----+\n",
            "| C587204551|    2|\n",
            "|C1015743493|    2|\n",
            "| C359227905|    2|\n",
            "|C1850343194|    2|\n",
            "| C379236140|    2|\n",
            "| C319921943|    2|\n",
            "|C1377194794|    2|\n",
            "|C1455885936|    2|\n",
            "| C803352127|    2|\n",
            "| C325257804|    2|\n",
            "+-----------+-----+\n",
            "only showing top 10 rows\n",
            "\n",
            "+-----------+-----+\n",
            "|   nameDest|count|\n",
            "+-----------+-----+\n",
            "| C587204551|    2|\n",
            "|C1492417626|    2|\n",
            "|C1015743493|    2|\n",
            "| C359227905|    2|\n",
            "| C390478316|    2|\n",
            "|C1850343194|    2|\n",
            "| C379236140|    2|\n",
            "|C1601170327|    2|\n",
            "| C319921943|    2|\n",
            "|C1377194794|    2|\n",
            "+-----------+-----+\n",
            "only showing top 10 rows\n",
            "\n",
            "+-----------+-----+\n",
            "|   nameDest|count|\n",
            "+-----------+-----+\n",
            "| C587204551|    2|\n",
            "|C1492417626|    2|\n",
            "|C1015743493|    2|\n",
            "| C359227905|    2|\n",
            "| C390478316|    2|\n",
            "|C1850343194|    2|\n",
            "| C379236140|    2|\n",
            "|C1601170327|    2|\n",
            "| C319921943|    2|\n",
            "|C1732055737|    2|\n",
            "+-----------+-----+\n",
            "only showing top 10 rows\n",
            "\n",
            "+-----------+-----+\n",
            "|   nameDest|count|\n",
            "+-----------+-----+\n",
            "| C319921943|    4|\n",
            "| C803352127|    4|\n",
            "|C1887077333|    4|\n",
            "| C587204551|    3|\n",
            "|C1015743493|    3|\n",
            "|C1377194794|    3|\n",
            "| C381472250|    3|\n",
            "|C1688761594|    3|\n",
            "| C488343370|    3|\n",
            "|C1506172037|    3|\n",
            "+-----------+-----+\n",
            "only showing top 10 rows\n",
            "\n",
            "+-----------+-----+\n",
            "|   nameDest|count|\n",
            "+-----------+-----+\n",
            "| C319921943|    4|\n",
            "| C803352127|    4|\n",
            "|C1887077333|    4|\n",
            "| C587204551|    3|\n",
            "|C1015743493|    3|\n",
            "|C1377194794|    3|\n",
            "| C381472250|    3|\n",
            "|C1688761594|    3|\n",
            "| C488343370|    3|\n",
            "|C1506172037|    3|\n",
            "+-----------+-----+\n",
            "only showing top 10 rows\n",
            "\n",
            "+-----------+-----+\n",
            "|   nameDest|count|\n",
            "+-----------+-----+\n",
            "| C319921943|    4|\n",
            "| C803352127|    4|\n",
            "|C1887077333|    4|\n",
            "| C763794011|    4|\n",
            "| C488343370|    4|\n",
            "| C587204551|    3|\n",
            "|C1015743493|    3|\n",
            "|C1850343194|    3|\n",
            "|C1377194794|    3|\n",
            "| C325257804|    3|\n",
            "+-----------+-----+\n",
            "only showing top 10 rows\n",
            "\n",
            "+-----------+-----+\n",
            "|   nameDest|count|\n",
            "+-----------+-----+\n",
            "| C319921943|    4|\n",
            "| C803352127|    4|\n",
            "|C1887077333|    4|\n",
            "| C763794011|    4|\n",
            "| C488343370|    4|\n",
            "| C587204551|    3|\n",
            "|C1015743493|    3|\n",
            "|C1850343194|    3|\n",
            "|C1377194794|    3|\n",
            "| C325257804|    3|\n",
            "+-----------+-----+\n",
            "only showing top 10 rows\n",
            "\n",
            "+-----------+-----+\n",
            "|   nameDest|count|\n",
            "+-----------+-----+\n",
            "| C319921943|    4|\n",
            "| C803352127|    4|\n",
            "|C1887077333|    4|\n",
            "| C763794011|    4|\n",
            "| C488343370|    4|\n",
            "| C587204551|    3|\n",
            "|C1015743493|    3|\n",
            "|C1850343194|    3|\n",
            "|C1377194794|    3|\n",
            "| C325257804|    3|\n",
            "+-----------+-----+\n",
            "only showing top 10 rows\n",
            "\n",
            "+-----------+-----+\n",
            "|   nameDest|count|\n",
            "+-----------+-----+\n",
            "| C319921943|    4|\n",
            "| C803352127|    4|\n",
            "|C1887077333|    4|\n",
            "| C763794011|    4|\n",
            "| C488343370|    4|\n",
            "| C587204551|    3|\n",
            "|C1015743493|    3|\n",
            "|C1850343194|    3|\n",
            "|C1377194794|    3|\n",
            "| C325257804|    3|\n",
            "+-----------+-----+\n",
            "only showing top 10 rows\n",
            "\n",
            "+-----------+-----+\n",
            "|   nameDest|count|\n",
            "+-----------+-----+\n",
            "| C587204551|    4|\n",
            "|C1015743493|    4|\n",
            "| C359227905|    4|\n",
            "|C1850343194|    4|\n",
            "| C379236140|    4|\n",
            "| C319921943|    4|\n",
            "|C1377194794|    4|\n",
            "|C1455885936|    4|\n",
            "| C803352127|    4|\n",
            "| C325257804|    4|\n",
            "+-----------+-----+\n",
            "only showing top 10 rows\n",
            "\n",
            "+-----------+-----+\n",
            "|   nameDest|count|\n",
            "+-----------+-----+\n",
            "| C587204551|    4|\n",
            "|C1015743493|    4|\n",
            "| C359227905|    4|\n",
            "|C1850343194|    4|\n",
            "| C379236140|    4|\n",
            "| C319921943|    4|\n",
            "|C1377194794|    4|\n",
            "|C1455885936|    4|\n",
            "| C803352127|    4|\n",
            "| C325257804|    4|\n",
            "+-----------+-----+\n",
            "only showing top 10 rows\n",
            "\n",
            "+-----------+-----+\n",
            "|   nameDest|count|\n",
            "+-----------+-----+\n",
            "| C587204551|    4|\n",
            "|C1015743493|    4|\n",
            "| C359227905|    4|\n",
            "|C1850343194|    4|\n",
            "| C379236140|    4|\n",
            "| C319921943|    4|\n",
            "|C1377194794|    4|\n",
            "|C1455885936|    4|\n",
            "| C803352127|    4|\n",
            "| C325257804|    4|\n",
            "+-----------+-----+\n",
            "only showing top 10 rows\n",
            "\n",
            "+-----------+-----+\n",
            "|   nameDest|count|\n",
            "+-----------+-----+\n",
            "| C587204551|    4|\n",
            "|C1015743493|    4|\n",
            "| C359227905|    4|\n",
            "|C1850343194|    4|\n",
            "| C379236140|    4|\n",
            "| C319921943|    4|\n",
            "|C1377194794|    4|\n",
            "|C1455885936|    4|\n",
            "| C803352127|    4|\n",
            "| C325257804|    4|\n",
            "+-----------+-----+\n",
            "only showing top 10 rows\n",
            "\n",
            "+-----------+-----+\n",
            "|   nameDest|count|\n",
            "+-----------+-----+\n",
            "| C587204551|    4|\n",
            "|C1015743493|    4|\n",
            "| C359227905|    4|\n",
            "|C1850343194|    4|\n",
            "| C379236140|    4|\n",
            "| C319921943|    4|\n",
            "|C1377194794|    4|\n",
            "|C1455885936|    4|\n",
            "| C803352127|    4|\n",
            "| C325257804|    4|\n",
            "+-----------+-----+\n",
            "only showing top 10 rows\n",
            "\n",
            "+-----------+-----+\n",
            "|   nameDest|count|\n",
            "+-----------+-----+\n",
            "| C587204551|    4|\n",
            "|C1015743493|    4|\n",
            "| C359227905|    4|\n",
            "|C1850343194|    4|\n",
            "| C379236140|    4|\n",
            "| C319921943|    4|\n",
            "|C1377194794|    4|\n",
            "|C1455885936|    4|\n",
            "| C803352127|    4|\n",
            "| C325257804|    4|\n",
            "+-----------+-----+\n",
            "only showing top 10 rows\n",
            "\n",
            "+-----------+-----+\n",
            "|   nameDest|count|\n",
            "+-----------+-----+\n",
            "|C1143329404|    4|\n",
            "| C587204551|    4|\n",
            "|C1795465515|    4|\n",
            "|C1015743493|    4|\n",
            "| C371558806|    4|\n",
            "| C359227905|    4|\n",
            "|C1807112061|    4|\n",
            "|C1850343194|    4|\n",
            "| C379236140|    4|\n",
            "|  C59741756|    4|\n",
            "+-----------+-----+\n",
            "only showing top 10 rows\n",
            "\n",
            "+-----------+-----+\n",
            "|   nameDest|count|\n",
            "+-----------+-----+\n",
            "|C1143329404|    4|\n",
            "| C587204551|    4|\n",
            "|C1795465515|    4|\n",
            "|C1015743493|    4|\n",
            "| C371558806|    4|\n",
            "| C359227905|    4|\n",
            "|C1807112061|    4|\n",
            "|C1850343194|    4|\n",
            "| C379236140|    4|\n",
            "|  C59741756|    4|\n",
            "+-----------+-----+\n",
            "only showing top 10 rows\n",
            "\n",
            "+-----------+-----+\n",
            "|   nameDest|count|\n",
            "+-----------+-----+\n",
            "| C232678930|    6|\n",
            "|C1265000705|    5|\n",
            "| C371558806|    5|\n",
            "|C1807112061|    5|\n",
            "| C379236140|    5|\n",
            "|C1964145894|    5|\n",
            "|C2090012904|    5|\n",
            "|C2001708620|    5|\n",
            "|C1158993188|    5|\n",
            "| C587204551|    4|\n",
            "+-----------+-----+\n",
            "only showing top 10 rows\n",
            "\n",
            "+-----------+-----+\n",
            "|   nameDest|count|\n",
            "+-----------+-----+\n",
            "| C232678930|    6|\n",
            "|C1265000705|    5|\n",
            "| C371558806|    5|\n",
            "|C1807112061|    5|\n",
            "| C379236140|    5|\n",
            "|C1964145894|    5|\n",
            "|C2090012904|    5|\n",
            "|C2001708620|    5|\n",
            "| C705073130|    5|\n",
            "|C1158993188|    5|\n",
            "+-----------+-----+\n",
            "only showing top 10 rows\n",
            "\n",
            "+-----------+-----+\n",
            "|   nameDest|count|\n",
            "+-----------+-----+\n",
            "| C232678930|    6|\n",
            "|C1265000705|    5|\n",
            "| C371558806|    5|\n",
            "|C1807112061|    5|\n",
            "| C379236140|    5|\n",
            "|C1964145894|    5|\n",
            "|C2090012904|    5|\n",
            "|C2001708620|    5|\n",
            "| C705073130|    5|\n",
            "|C1158993188|    5|\n",
            "+-----------+-----+\n",
            "only showing top 10 rows\n",
            "\n",
            "+-----------+-----+\n",
            "|   nameDest|count|\n",
            "+-----------+-----+\n",
            "| C232678930|    6|\n",
            "|C1265000705|    5|\n",
            "| C371558806|    5|\n",
            "|C1807112061|    5|\n",
            "| C379236140|    5|\n",
            "|C1964145894|    5|\n",
            "|C2090012904|    5|\n",
            "|C2001708620|    5|\n",
            "| C705073130|    5|\n",
            "|C1158993188|    5|\n",
            "+-----------+-----+\n",
            "only showing top 10 rows\n",
            "\n",
            "+-----------+-----+\n",
            "|   nameDest|count|\n",
            "+-----------+-----+\n",
            "| C232678930|    6|\n",
            "|C1265000705|    5|\n",
            "| C371558806|    5|\n",
            "|C1807112061|    5|\n",
            "| C379236140|    5|\n",
            "|C1964145894|    5|\n",
            "|C2090012904|    5|\n",
            "|C2001708620|    5|\n",
            "| C705073130|    5|\n",
            "|C1158993188|    5|\n",
            "+-----------+-----+\n",
            "only showing top 10 rows\n",
            "\n",
            "+-----------+-----+\n",
            "|   nameDest|count|\n",
            "+-----------+-----+\n",
            "| C232678930|    6|\n",
            "|C1265000705|    5|\n",
            "| C371558806|    5|\n",
            "|C1807112061|    5|\n",
            "| C379236140|    5|\n",
            "|C1964145894|    5|\n",
            "|C2090012904|    5|\n",
            "|C2001708620|    5|\n",
            "| C705073130|    5|\n",
            "|C1158993188|    5|\n",
            "+-----------+-----+\n",
            "only showing top 10 rows\n",
            "\n",
            "+-----------+-----+\n",
            "|   nameDest|count|\n",
            "+-----------+-----+\n",
            "| C232678930|    6|\n",
            "| C705073130|    6|\n",
            "|C1158993188|    6|\n",
            "|C1265000705|    5|\n",
            "| C371558806|    5|\n",
            "|C1807112061|    5|\n",
            "| C379236140|    5|\n",
            "| C362454348|    5|\n",
            "|C1439741185|    5|\n",
            "|C1964145894|    5|\n",
            "+-----------+-----+\n",
            "only showing top 10 rows\n",
            "\n",
            "+-----------+-----+\n",
            "|   nameDest|count|\n",
            "+-----------+-----+\n",
            "| C232678930|    6|\n",
            "| C705073130|    6|\n",
            "|C1158993188|    6|\n",
            "|C1265000705|    5|\n",
            "| C371558806|    5|\n",
            "|C1807112061|    5|\n",
            "| C379236140|    5|\n",
            "| C362454348|    5|\n",
            "|C1439741185|    5|\n",
            "|C1964145894|    5|\n",
            "+-----------+-----+\n",
            "only showing top 10 rows\n",
            "\n",
            "+-----------+-----+\n",
            "|   nameDest|count|\n",
            "+-----------+-----+\n",
            "| C232678930|    6|\n",
            "| C705073130|    6|\n",
            "|C1158993188|    6|\n",
            "|C1265000705|    5|\n",
            "| C371558806|    5|\n",
            "|C1807112061|    5|\n",
            "| C379236140|    5|\n",
            "| C362454348|    5|\n",
            "|C1439741185|    5|\n",
            "|C1964145894|    5|\n",
            "+-----------+-----+\n",
            "only showing top 10 rows\n",
            "\n",
            "+-----------+-----+\n",
            "|   nameDest|count|\n",
            "+-----------+-----+\n",
            "| C705073130|    7|\n",
            "|C1807112061|    6|\n",
            "|C1620933925|    6|\n",
            "| C232678930|    6|\n",
            "|C1187819806|    6|\n",
            "|C1158993188|    6|\n",
            "|C1499142229|    5|\n",
            "|C1560936080|    5|\n",
            "|C1265000705|    5|\n",
            "|C1384940806|    5|\n",
            "+-----------+-----+\n",
            "only showing top 10 rows\n",
            "\n",
            "+-----------+-----+\n",
            "|   nameDest|count|\n",
            "+-----------+-----+\n",
            "| C705073130|    7|\n",
            "|C1807112061|    6|\n",
            "|C1620933925|    6|\n",
            "| C232678930|    6|\n",
            "|C1187819806|    6|\n",
            "|C1158993188|    6|\n",
            "|C1499142229|    5|\n",
            "|C1560936080|    5|\n",
            "|C1265000705|    5|\n",
            "|C1384940806|    5|\n",
            "+-----------+-----+\n",
            "only showing top 10 rows\n",
            "\n",
            "+-----------+-----+\n",
            "|   nameDest|count|\n",
            "+-----------+-----+\n",
            "| C705073130|    7|\n",
            "|C1807112061|    6|\n",
            "|C1620933925|    6|\n",
            "| C232678930|    6|\n",
            "|C1187819806|    6|\n",
            "|C1158993188|    6|\n",
            "|C1499142229|    5|\n",
            "|C1560936080|    5|\n",
            "|C1265000705|    5|\n",
            "|C1384940806|    5|\n",
            "+-----------+-----+\n",
            "only showing top 10 rows\n",
            "\n"
          ],
          "name": "stdout"
        }
      ]
    },
    {
      "cell_type": "markdown",
      "metadata": {
        "id": "YvjhasgjQeHy"
      },
      "source": [
        "Check if stream is active"
      ]
    },
    {
      "cell_type": "code",
      "metadata": {
        "id": "0Zm5f9KHQeH0",
        "colab": {
          "base_uri": "https://localhost:8080/"
        },
        "outputId": "3ca4f626-76f3-4da5-c195-28b50e3b97b9"
      },
      "source": [
        "spark.streams.active[0].isActive"
      ],
      "execution_count": null,
      "outputs": [
        {
          "output_type": "execute_result",
          "data": {
            "text/plain": [
              "True"
            ]
          },
          "metadata": {
            "tags": []
          },
          "execution_count": 31
        }
      ]
    },
    {
      "cell_type": "code",
      "metadata": {
        "id": "31KDVHijQeH0",
        "colab": {
          "base_uri": "https://localhost:8080/"
        },
        "outputId": "389f5948-3787-4e1a-be38-32a84182f7f2"
      },
      "source": [
        "activityQuery.status"
      ],
      "execution_count": null,
      "outputs": [
        {
          "output_type": "execute_result",
          "data": {
            "text/plain": [
              "{'isDataAvailable': True,\n",
              " 'isTriggerActive': True,\n",
              " 'message': 'Processing new data'}"
            ]
          },
          "metadata": {
            "tags": []
          },
          "execution_count": 32
        }
      ]
    },
    {
      "cell_type": "markdown",
      "metadata": {
        "id": "yAtQA5IDQeH0"
      },
      "source": [
        "If we  want to turn off the stream we'll run activityQuery.stop() to reset the query for testing purposes."
      ]
    },
    {
      "cell_type": "code",
      "metadata": {
        "id": "ZAXp9luRQeH0"
      },
      "source": [
        "activityQuery.stop()"
      ],
      "execution_count": null,
      "outputs": []
    }
  ]
}